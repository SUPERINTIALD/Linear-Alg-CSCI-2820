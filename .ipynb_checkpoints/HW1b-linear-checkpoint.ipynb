{
 "cells": [
  {
   "cell_type": "code",
   "execution_count": 5,
   "metadata": {},
   "outputs": [],
   "source": [
    "##This is a Jupyter notebook for Linear Algebra HW. \n",
    "##Belongs to Divya E. Vernerey\n",
    "##August 2023"
   ]
  },
  {
   "cell_type": "markdown",
   "metadata": {},
   "source": [
    "# HW1 - LINEAR\n",
    "\n",
    "Today we will try to understand how systems of linear equations look like graphically.\n"
   ]
  },
  {
   "cell_type": "code",
   "execution_count": 1,
   "metadata": {},
   "outputs": [
    {
     "name": "stdout",
     "output_type": "stream",
     "text": [
      "Hello, World!\n"
     ]
    }
   ],
   "source": [
    "print(\"Hello, World!\")"
   ]
  },
  {
   "cell_type": "code",
   "execution_count": 1,
   "metadata": {},
   "outputs": [
    {
     "data": {
      "image/png": "[encoded data removed]",
      "text/plain": [
       "<Figure size 432x288 with 1 Axes>"
      ]
     },
     "metadata": {
      "needs_background": "light"
     },
     "output_type": "display_data"
    }
   ],
   "source": [
    "''' \n",
    "This cell will graph lines\n",
    "and also beautify the graph environment\n",
    "'''\n",
    "\n",
    "%matplotlib inline\n",
    "import numpy as np\n",
    "import matplotlib.pyplot as plt\n",
    "\n",
    "## This call to linspace produces an array of 100 numbers evenly spaced on the interval [-5,5]\n",
    "x=np.linspace(-5,5,100)\n",
    "\n",
    "#graph lines\n",
    "fig, ax = plt.subplots()\n",
    "#ax.plot(x,(5-x)/3)\n",
    "#ax.plot(x,(5+x)/2)\n",
    "ax.plot(x,(5-x)/3)\n",
    "ax.plot(x,-x/3)\n",
    "\n",
    "#text of line equations\n",
    "ax.text(1,1.6,'$x_1+3x_2 = 5$')\n",
    "ax.text(-3,0.5,'$x_1-2x_2 = -5$')\n",
    "\n",
    "ax.set_xlim(-4,4)\n",
    "ax.set_ylim(-2,6)\n",
    "ax.axvline(color='k',linewidth = 1)\n",
    "ax.axhline(color='k',linewidth = 1)\n",
    "\n",
    "## This options specifies the ticks based the list of numbers provided.\n",
    "ax.set_xticks(list(range(-4,5)))\n",
    "ax.set_aspect('equal')\n",
    "ax.grid(True,ls=':')"
   ]
  },
  {
   "cell_type": "markdown",
   "metadata": {},
   "source": [
    "# EXERCISES:"
   ]
  },
  {
   "cell_type": "markdown",
   "metadata": {},
   "source": [
    "Exercise 1: Consider the system of equations given below. Find a value for the coefficient $a$\n",
    "so that the system has exactly one solution. \n",
    "For that value of $a$, find the solution to the system of equations and plot the lines formed by your equations to check your answer."
   ]
  },
  {
   "cell_type": "markdown",
   "metadata": {},
   "source": [
    "$$𝑎 𝑥_1 + 2𝑥_2 = 1 \\\\ 4 𝑥_1 + 8 𝑥_2 = 12$$"
   ]
  },
  {
   "cell_type": "code",
   "execution_count": 4,
   "metadata": {},
   "outputs": [],
   "source": [
    "## Code solution here."
   ]
  },
  {
   "cell_type": "markdown",
   "metadata": {},
   "source": [
    "Exercise 2: Find a value for the coefficient $a$ so that the system has no solution. Plot the lines formed by your equations to verify there is no solution.\n",
    "\n",
    "$$𝑎 𝑥_1 + 2𝑥_2 = 1 \\\\ 4𝑥_1 + 8𝑥_2 = 12$$"
   ]
  },
  {
   "cell_type": "code",
   "execution_count": 5,
   "metadata": {},
   "outputs": [],
   "source": [
    "## Code solution here."
   ]
  },
  {
   "cell_type": "markdown",
   "metadata": {},
   "source": [
    "Exercise 3: Consider the system of equations given below. Under what conditions on the coefficients $a,b,c,d,e,f$\n",
    "does this system have only one solution? No solutions? An infinite number of solutions? \n",
    "(Think about what must be true of the slopes AND intercepts of the lines in each case.)\n",
    "\n",
    "$$𝑎 𝑥_1 + 𝑏 𝑥_2=c \\\\ 𝑑 𝑥_1 + 𝑒 𝑥_2=𝑓$$"
   ]
  },
  {
   "cell_type": "code",
   "execution_count": 6,
   "metadata": {},
   "outputs": [],
   "source": [
    "## Code solution here."
   ]
  },
  {
   "cell_type": "code",
   "execution_count": null,
   "metadata": {},
   "outputs": [],
   "source": []
  }
 ],
 "metadata": {
  "kernelspec": {
   "display_name": "Python 3",
   "language": "python",
   "name": "python3"
  },
  "language_info": {
   "codemirror_mode": {
    "name": "ipython",
    "version": 3
   },
   "file_extension": ".py",
   "mimetype": "text/x-python",
   "name": "python",
   "nbconvert_exporter": "python",
   "pygments_lexer": "ipython3",
   "version": "3.8.5"
  }
 },
 "nbformat": 4,
 "nbformat_minor": 4
}
