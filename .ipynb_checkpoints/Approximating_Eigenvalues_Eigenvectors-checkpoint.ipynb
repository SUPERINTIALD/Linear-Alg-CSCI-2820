{
 "cells": [
  {
   "cell_type": "markdown",
   "metadata": {},
   "source": [
    "# CSCI 2820 - LINEAR ALGEBRA - FALL 2023"
   ]
  },
  {
   "cell_type": "markdown",
   "metadata": {},
   "source": [
    "Make sure you fill in any place that says `CODE SOLUTION HERE` or \"CODE SOLUTION HERE\", as well as your name and collaborators below:"
   ]
  },
  {
   "cell_type": "code",
   "execution_count": 1,
   "metadata": {},
   "outputs": [],
   "source": [
    "NAME = \"Yuri Fung\"\n",
    "COLLABORATORS = \"Alec Wang, Dorjee Zhang, Julio Gonzalez\""
   ]
  },
  {
   "cell_type": "markdown",
   "metadata": {},
   "source": [
    "# FINAL PROJECT (OPTION 2):\n"
   ]
  },
  {
   "cell_type": "markdown",
   "metadata": {},
   "source": [
    "# Approximating Eigenvalues and Eigenvectors and Applications in Discrete Dynamical Systems"
   ]
  },
  {
   "cell_type": "markdown",
   "metadata": {},
   "source": [
    "In this first section we look at three methods that can be used to approximate the eigenvalues of a matrix $A$.  Although it is possible to find the exact eigenvalues for small matrices, the approach is impractical for larger matrices. Read Lay section 5.8 for more detailed information.\n",
    "\n",
    "Most introductory textbooks demonstrate a direct way to compute eigenvalues of an $n\\times n$ matrix $A$ by computing roots of an associated $n$th degree polynomial, known as the *characteristic polynomial*.  For example, suppose $A$ is a $2\\times 2$ matrix.\n",
    "\n",
    "$$\n",
    "\\begin{equation}\n",
    "A = \\left[ \\begin{array}{rr} a & b  \\\\ c & d \\end{array}\\right]\n",
    "\\end{equation}\n",
    "$$\n",
    "\n",
    "The eigenvalues of $A$ are solutions to the quadratic equation $\\lambda^2 - (a+d)\\lambda + ad-bc = 0$, which can be written explicitly in terms of $a$, $b$, $c$, and $d$ using the quadratic formula.  The challenges with larger matrices are that the polynomial is more difficult to construct, and the roots cannot be easily found with a formula.\n",
    "\n",
    "The algorithms we describe in this section are iterative methods.  They generate a sequence of vectors $\\{X^{(1)}, X^{(2)}, X^{(3)}, ... \\}$ that approach a true eigenvector of the matrix under consideration.  An approximation of the corresponding eigenvalue can then be computed by multiplying the approximate eigenvector by $A$. "
   ]
  },
  {
   "cell_type": "markdown",
   "metadata": {},
   "source": [
    "## Power method (method 1)\n",
    "\n",
    "The first algorithm we introduce for approximating eigenvalues is known as the **Power Method**.  This method generates a sequence of vectors by repeated matrix multiplication.  Under suitable conditions, the sequence of vectors approaches the eigenvector associated with the eigenvalue that is largest in absolute value.    \n",
    "\n",
    "For the simplest explanation, suppose that $A$ is an $n\\times n$ diagonalizable matrix with eigenvectors $\\{V_1, V_2, ... V_n\\}$, and that $\\lambda_1$ is the eigenvalue of $A$ that is largest in absolute value.  To begin the Power Method, we choose any nonzero vector and label it $X^{(0)}$.  We can express $X^{(0)}$  as a linear combination of the eigenvectors since they form a basis for $\\mathbb{R}^n$.\n",
    "\n",
    "$$\n",
    "\\begin{equation}\n",
    "X^{(0)} = c_1V_1 + c_2V_2 + ... c_nV_n\n",
    "\\end{equation}\n",
    "$$\n",
    "\n",
    "We now form a sequence of vectors $X^{(1)}$, $X^{(2)}$, $X^{(3)}$, ..., by setting $X^{(m)}= AX^{(m-1)}$.  Each of these vectors is also easly expressed in terms of the eigenvectors.\n",
    "\n",
    "$$\n",
    "\\begin{eqnarray*}\n",
    "X^{(1)} = AX^{(0)} & = & c_1AV_1 + c_2AV_2 + ... c_nAV_n \\\\\n",
    "                   & = & c_1\\lambda_1V_1 + c_2\\lambda_2V_2 + ... c_n\\lambda_nV_n \\\\\n",
    "X^{(2)} = AX^{(1)} & = & c_1\\lambda_1AV_1 + c_2\\lambda_2AV_2 + ... c_n\\lambda_nAV_n \\\\\n",
    "                   & = & c_1\\lambda_1^2V_1 + c_2\\lambda_2^2V_2 + ... c_n\\lambda_n^2V_n \\\\\n",
    "                   & \\vdots & \\\\\n",
    "X^{(m)} = AX^{(m-1)} & = & c_1\\lambda_1^{m-1}AV_1 + c_2\\lambda_2^{m-1}AV_2 + ... c_n\\lambda_n^{m-1}AV_n \\\\\n",
    "                   & = & c_1\\lambda_1^mV_1 + c_2\\lambda_2^mV_2 + ... c_n\\lambda_n^mV_n \n",
    "\\end{eqnarray*}\n",
    "$$\n",
    "\n",
    "In the expression for $X^{(m)}$, we can then factor out $\\lambda_1^m$ to understand what happens as $m$ gets large.\n",
    "\n",
    "$$\n",
    "\\begin{equation}\n",
    "X^{(m)} =  \\lambda_1^m\\left(c_1V_1 + c_2\\left(\\frac{\\lambda_2}{\\lambda_1}\\right)^mV_2 + ... c_n\\left(\\frac{\\lambda_n}{\\lambda_1}\\right)^mV_n\\right) \n",
    "\\end{equation}\n",
    "$$\n",
    "\n",
    "If $|\\lambda_1| > |\\lambda_i|$ for all $i\\neq 1$, then $|\\lambda_i/\\lambda_1|< 1$ and $(\\lambda_i/\\lambda_1)^m$ will approach zero as $m$ gets large.  This means that if we repeatedly multiply a vector by the matrix $A$, eventually we will get a vector that is very nearly in the direction of the eigenvector that corresponds to the $\\lambda_1$. "
   ]
  },
  {
   "cell_type": "markdown",
   "metadata": {},
   "source": [
    "Let's demonstrate the calculation on the matrix shown here before we discuss the method further.\n",
    "\n",
    "$$\n",
    "\\begin{equation}\n",
    "A = \\left[ \\begin{array}{rrrr} -2 & 6 & 2 & -8 \\\\ -6 & 0 & 12 & 12 \\\\ -6 & 0 & 12 & 12 \\\\ -10 & 3 & 7 & 14 \\end{array}\\right]\n",
    "\\end{equation}\n",
    "$$\n",
    "\n",
    "As a matter of practicality, it is common to scale the vectors in the sequence to unit length as the Power Method is applied.  If the vectors in the sequence are not scaled, their magnitudes will grow if $\\lambda_1>1$ or decay if $\\lambda_1<1$.    Since all components of the vectors get divided by the same factor when the vector is scaled, this step doesn't change the ultimate behavior of the sequence.  The scaled sequence of vectors still approaches the direction of the eigenvector. \n",
    "\n",
    "We choose an arbitrary $X^{(0)}$ and calculate $X^{(20)}$ using the following rule.\n",
    "\n",
    "$$\n",
    "\\begin{equation}\n",
    "X^{(m)}=\\frac{AX^{(m-1)}}{||AX^{(m-1)}||}\n",
    "\\end{equation}\n",
    "$$"
   ]
  },
  {
   "cell_type": "code",
   "execution_count": 2,
   "metadata": {},
   "outputs": [
    {
     "name": "stdout",
     "output_type": "stream",
     "text": [
      "[[ 1.57523994e-12]\n",
      " [-5.77350269e-01]\n",
      " [-5.77350269e-01]\n",
      " [-5.77350269e-01]]\n"
     ]
    }
   ],
   "source": [
    "import numpy as np\n",
    "import laguide as lag\n",
    "A = np.array([[-2, 6, 2, -8],[-6, 0, 12, 12],[-6, 0, 12, 12],[-10, 3, 7, 14]])\n",
    "X = np.array([[1],[0],[0],[0]])\n",
    "\n",
    "m = 0\n",
    "while (m < 20):\n",
    "    X = A@X\n",
    "    X = X/lag.Magnitude(X)\n",
    "    m = m + 1\n",
    "    \n",
    "print(X)"
   ]
  },
  {
   "cell_type": "markdown",
   "metadata": {},
   "source": [
    "Now if $X$ is the eigenvector of $A$ with unit magnitude, then $|AX| = |\\lambda_1X| = |\\lambda_1|$.  We can therefore approximate $|\\lambda_1|$ with $|AX|$."
   ]
  },
  {
   "cell_type": "code",
   "execution_count": 3,
   "metadata": {},
   "outputs": [
    {
     "name": "stdout",
     "output_type": "stream",
     "text": [
      "24.000000000020005\n"
     ]
    }
   ],
   "source": [
    "print(lag.Magnitude(A@X))"
   ]
  },
  {
   "cell_type": "markdown",
   "metadata": {},
   "source": [
    "It appears that 24 is an estimate for $\\lambda_1$.   To determine if our calculation is correct, we can compare $AX$ with $\\lambda_1X$.  "
   ]
  },
  {
   "cell_type": "code",
   "execution_count": 4,
   "metadata": {},
   "outputs": [
    {
     "name": "stdout",
     "output_type": "stream",
     "text": [
      "[[-4.09561274e-11]\n",
      " [-9.45021839e-12]\n",
      " [-9.45021839e-12]\n",
      " [-1.57509561e-11]]\n"
     ]
    }
   ],
   "source": [
    "print(A@X - 24*X)"
   ]
  },
  {
   "cell_type": "markdown",
   "metadata": {},
   "source": [
    "Indeed the difference $AX-24X$ is small.  Note that in this case, we can even do the calculation with integer multiplication.  Notice that $X$ has 0 in the first entry and the other entries are equal.  If we set these entries to 1, the result is easy to calculate even without the aid of the computer.  (*Remember that we can change the magnitude of an eigenvector and it is still an eigenvector.*) \n",
    "\n",
    "$$\n",
    "\\begin{equation}\n",
    "AX = \\left[ \\begin{array}{rrrr} -2 & 6 & 2 & -8 \\\\ -6 & 0 & 12 & 12 \\\\ -6 & 0 & 12 & 12 \\\\ -10 & 3 & 7 & 14 \\end{array}\\right]\n",
    "\\left[ \\begin{array}{r} 0 \\\\ 1\\\\ 1 \\\\ 1 \\end{array}\\right] =\n",
    "\\left[ \\begin{array}{r} 0 \\\\ 24\\\\ 24 \\\\ 24 \\end{array}\\right] = 24X\n",
    "\\end{equation}\n",
    "$$"
   ]
  },
  {
   "cell_type": "markdown",
   "metadata": {},
   "source": [
    "In practice, we do not know how many iterations we need to perform in order to get a good approximation of the eigenvector.  Instead we should specify a condition upon which we will be satisfied with the approximation and terminate the iteration.  For example, since $||AX^{(m)}||\\approx \\lambda_1$ and $AX^{(m)}\\approx \\lambda_1X^{(m)}$ we might require that $AX^{(m)} - ||AX^{(m)}||X^{(m)} < \\epsilon$ for some small number $\\epsilon$ known as a tolerance.  This condition ensures that $X^{(m)}$ functions roughly like an eigenvector.  It is also best to include in the code a limit on the number of iterations that will be carried out.  This ensures that the computation will eventually end, even if a satisfactory result has not yet been achieved."
   ]
  },
  {
   "cell_type": "code",
   "execution_count": 5,
   "metadata": {},
   "outputs": [
    {
     "name": "stdout",
     "output_type": "stream",
     "text": [
      "Eigenvector is approximately:\n",
      "[[ 1.65181395e-06]\n",
      " [-5.77350269e-01]\n",
      " [-5.77350269e-01]\n",
      " [-5.77350269e-01]] \n",
      "\n",
      "Magnitude of the eigenvalue is approximately:\n",
      "24.000020980823063 \n",
      "\n",
      "Magnitude of the difference is:\n",
      "4.328470441185797e-05\n"
     ]
    }
   ],
   "source": [
    "X = np.array([[1],[0],[0],[0]])\n",
    "\n",
    "m = 0\n",
    "tolerance = 0.0001\n",
    "MAX_ITERATIONS = 100\n",
    "\n",
    "## Compute difference in stopping condition\n",
    "## Assign Y = AX to avoid computing AX multiple times\n",
    "Y = A@X\n",
    "difference = Y - lag.Magnitude(Y)*X\n",
    "\n",
    "while (m < MAX_ITERATIONS and lag.Magnitude(difference) > tolerance):\n",
    "    X = Y\n",
    "    X = X/lag.Magnitude(X)\n",
    "\n",
    "    ## Compute difference in stopping condition\n",
    "    Y = A@X\n",
    "    difference = Y - lag.Magnitude(Y)*X\n",
    "    \n",
    "    m = m + 1\n",
    "    \n",
    "print(\"Eigenvector is approximately:\")\n",
    "print(X,'\\n')\n",
    "print(\"Magnitude of the eigenvalue is approximately:\")\n",
    "print(lag.Magnitude(Y),'\\n')\n",
    "print(\"Magnitude of the difference is:\")\n",
    "print(lag.Magnitude(difference))\n"
   ]
  },
  {
   "cell_type": "markdown",
   "metadata": {},
   "source": [
    "A more common condition to require is that $||X^{(m)} - X^{(m-1})|| < \\epsilon$ for a given tolerance $\\epsilon$.  This condition merely requires that the vectors in the sequence get close to one another, not that they are actually approximate an eigenvector.  "
   ]
  },
  {
   "cell_type": "code",
   "execution_count": 6,
   "metadata": {},
   "outputs": [
    {
     "name": "stdout",
     "output_type": "stream",
     "text": [
      "Eigenvector is approximately:\n",
      "[[ 2.64294012e-05]\n",
      " [-5.77350269e-01]\n",
      " [-5.77350269e-01]\n",
      " [-5.77350269e-01]] \n",
      "\n",
      "Magnitude of the eigenvalue is approximately:\n",
      "24.000020980823063 \n",
      "\n",
      "Magnitude of the difference is:\n",
      "8.434774776931515e-05\n"
     ]
    }
   ],
   "source": [
    "X = np.array([[1],[0],[0],[0]])\n",
    "\n",
    "m = 0\n",
    "tolerance = 0.0001\n",
    "MAX_ITERATIONS = 100\n",
    "\n",
    "difference = X\n",
    "\n",
    "while (m < MAX_ITERATIONS and lag.Magnitude(difference) > tolerance):\n",
    "    X_previous = X\n",
    "    X = A@X\n",
    "    X = X/lag.Magnitude(X)\n",
    "\n",
    "    ## Compute difference in stopping condition\n",
    "    difference = X - X_previous\n",
    "    \n",
    "    m = m + 1\n",
    "    \n",
    "print(\"Eigenvector is approximately:\")\n",
    "print(X,'\\n')\n",
    "print(\"Magnitude of the eigenvalue is approximately:\")\n",
    "print(lag.Magnitude(Y),'\\n')\n",
    "print(\"Magnitude of the difference is:\")\n",
    "print(lag.Magnitude(difference))\n"
   ]
  },
  {
   "cell_type": "markdown",
   "metadata": {},
   "source": [
    "While the Power Method is easy to understand and apply, it does have disadvantages.  The most apparent disadvantage is that the method only applies to the largest eigenvalue.  This is not a huge detriment since applications often only require an approximation of the largest eigenvalue.  Also, as we will demonstrate below, it is possible to easily modify the method to approximate the other eigenvalues.  A more significant disadvantage is that the rate at which the sequence converges can be slow in some circumstances.  For example, we can see that if $|\\lambda_1|$ is close to $|\\lambda_2|$, then $|\\lambda_1/\\lambda_2|^m$ approaches zero more slowly as $m$ gets large.  The Power Method may fail to converge at all if $|\\lambda_1| = |\\lambda_2|$, which occurs if $\\lambda_1 = -\\lambda_2$, or if $\\lambda_1$ and $\\lambda_2$ are a complex conjugate pair.  Additionally, the method may perform poorly if the $V_1$ component of $X^{(0)}$ is too small.  "
   ]
  },
  {
   "cell_type": "markdown",
   "metadata": {},
   "source": [
    "## Inverse power method (method 2)\n",
    "\n",
    "The **Inverse Power Method** is a modified version of the Power Method that allows us to approximate eigenvalues that are *not the largest*.  All that is needed to make the modification is two simple facts that relate changes in a matrix to changes in the eigenvalues of that matrix.  Let's suppose that $A$ is an invertible $n\\times n$ matrix with eigenvalue $\\lambda$ and corresponding eigenvector $V$, so that $AV=\\lambda V$.  If we multiply this equation by $A^{-1}$, we get $V=\\lambda A^{-1}V$, which can then be divided by $\\lambda$ to illustrate the useful fact.\n",
    "\n",
    "$$\n",
    "\\begin{equation}\n",
    "A^{-1}V = \\frac{1}{\\lambda}V\n",
    "\\end{equation}\n",
    "$$\n",
    "\n",
    "If $\\lambda$ is an eigenvalue of $A$, then $\\lambda^{-1}$ is an eigenvalue of $A^{-1}$.  Furthermore the eigenvector of $A$ is also an eigenvector of $A^{-1}$.  The important point here is that if $\\lambda_n$ is the smallest eigenvalue of $A$, then $\\lambda_n^{-1}$ is the *largest* eigenvector of $A^{-1}$.  If we want to approximate the smallest eigenvalue of $A$, we can just apply the Power Method to $A^{-1}$.\n",
    "\n",
    "We demonstrate the calculation for the following $3\\times 3$ matrix.\n",
    "\n",
    "$$\n",
    "\\begin{equation}\n",
    "A = \\left[ \\begin{array}{rrrr} 9 & -1 & -3 \\\\ 0 & 6 & 0 \\\\ -6 & 3 & 6 \\end{array}\\right]\n",
    "\\end{equation}\n",
    "$$\n",
    "\n",
    "Again we choose an arbitrary $X^{(0)}$, and generate a sequence of vectors by multiplying by $A^{-1}$ and scaling the result to unit length.\n",
    "\n",
    "$$\n",
    "\\begin{equation}\n",
    "X^{(m)}=\\frac{A^{-1}X^{(m-1)}}{||A^{-1}X^{(m-1)}||}\n",
    "\\end{equation}\n",
    "$$"
   ]
  },
  {
   "cell_type": "code",
   "execution_count": 7,
   "metadata": {},
   "outputs": [
    {
     "name": "stdout",
     "output_type": "stream",
     "text": [
      "Eigenvector is approximately:\n",
      "[[-4.47193123e-01]\n",
      " [ 6.14168469e-05]\n",
      " [-8.94437425e-01]] \n",
      "\n",
      "Magnitude of the eigenvalue of A inverse is approximately:\n",
      "0.3333371476391265 \n",
      "\n",
      "Magnitude of the eigenvalue of A is approximately:\n",
      "2.999931351114087 \n",
      "\n"
     ]
    }
   ],
   "source": [
    "X = np.array([[0],[1],[0]])\n",
    "\n",
    "m = 0\n",
    "tolerance = 0.0001\n",
    "MAX_ITERATIONS = 100\n",
    "\n",
    "difference = X\n",
    "A = np.array([[9,-1,-3],[0,6,0],[-6,3,6]])\n",
    "A_inv = lag.Inverse(A)\n",
    "\n",
    "while (m < MAX_ITERATIONS and lag.Magnitude(difference) > tolerance):\n",
    "    X_previous = X\n",
    "    X = A_inv@X\n",
    "    X = X/lag.Magnitude(X)\n",
    "\n",
    "    ## Compute difference in stopping condition\n",
    "    difference = X - X_previous\n",
    "    \n",
    "    m = m + 1\n",
    "    \n",
    "print(\"Eigenvector is approximately:\")\n",
    "print(X,'\\n')\n",
    "print(\"Magnitude of the eigenvalue of A inverse is approximately:\")\n",
    "print(lag.Magnitude(A_inv@X),'\\n')\n",
    "print(\"Magnitude of the eigenvalue of A is approximately:\")\n",
    "print(lag.Magnitude(A@X),'\\n')"
   ]
  },
  {
   "cell_type": "markdown",
   "metadata": {},
   "source": [
    "The exact value of the smallest eigenvalue of $A$ is 3, which again can be verified by calculation.\n",
    "\n",
    "$$\n",
    "\\begin{equation}\n",
    "AV = \\left[ \\begin{array}{rrrr} 9 & -1 & -3 \\\\ 0 & 6 & 0 \\\\ -6 & 3 & 6 \\end{array}\\right]\n",
    "\\left[ \\begin{array}{r} 1 \\\\ 0\\\\ 2 \\end{array}\\right] =\n",
    "\\left[ \\begin{array}{r} 3 \\\\ 0 \\\\ 6 \\end{array}\\right] = 3V\n",
    "\\end{equation}\n",
    "$$\n",
    "\n",
    "In our discussion of Inverse Matrices we noted that the construction of an inverse matrix is quite expensive since it requires the solution of $n$ systems of size $n\\times n$.  An alternative to constructing $A^{-1}$ and computing the  $X^{(m)}=A^{-1}X^{(m-1)}$ is to solve the system $AX^{(m)}=X^{(m-1)}$ to obtain $X^{(m)}$.  This means that we solve one $n\\times n$ system for every iteration.  This appears to require more work than the construction of $A^{-1}$, but in fact it is less since every system involves the same coefficient matrix.  We can therefore save much work by performing elimination only once and storing the result in an $LU$ factorization.  With the the matrix $A$ factored, each system $AX^{(m)}=X^{(m-1)}$ only requires one forward substitution and one backward substitution.  "
   ]
  },
  {
   "cell_type": "code",
   "execution_count": 8,
   "metadata": {},
   "outputs": [
    {
     "name": "stdout",
     "output_type": "stream",
     "text": [
      "Eigenvector is approximately:\n",
      "[[-4.47193123e-01]\n",
      " [ 6.14168469e-05]\n",
      " [-8.94437425e-01]] \n",
      "\n",
      "Magnitude of the eigenvalue of A inverse is approximately:\n",
      "0.3333371476391265 \n",
      "\n",
      "Magnitude of the eigenvalue of A is approximately:\n",
      "2.999931351114087 \n",
      "\n"
     ]
    }
   ],
   "source": [
    "import scipy.linalg as sla\n",
    "\n",
    "X = np.array([[0],[1],[0]])\n",
    "\n",
    "m = 0\n",
    "tolerance = 0.0001\n",
    "MAX_ITERATIONS = 100\n",
    "\n",
    "difference = X\n",
    "A = np.array([[9,-1,-3],[0,6,0],[-6,3,6]])\n",
    "LU_factorization = sla.lu_factor(A)\n",
    "\n",
    "while (m < MAX_ITERATIONS and lag.Magnitude(difference) > tolerance):\n",
    "    X_previous = X\n",
    "    X = sla.lu_solve(LU_factorization,X)\n",
    "    X = X/lag.Magnitude(X)\n",
    "    difference = X - X_previous\n",
    "    m = m + 1\n",
    "  \n",
    "print(\"Eigenvector is approximately:\")\n",
    "print(X,'\\n')\n",
    "print(\"Magnitude of the eigenvalue of A inverse is approximately:\")\n",
    "print(lag.Magnitude(sla.lu_solve(LU_factorization,X)),'\\n')\n",
    "print(\"Magnitude of the eigenvalue of A is approximately:\")\n",
    "print(lag.Magnitude(A@X),'\\n')"
   ]
  },
  {
   "cell_type": "markdown",
   "metadata": {},
   "source": [
    "## Shifted inverse power method (method 3)\n",
    "\n",
    "Using a small modification to the Inverse Power Method, we can also approximate eigenvalues that are not the smallest.  For this variation of the method, we need to observe that if we \"shift\" the diagonal entries of a matrix by a scalar $\\mu$, all of the eigenvalues of the matrix are also shifted by $\\mu$.  Let $A$ be an $n\\times n$ matrix with eigenvalue $\\lambda$ and corresponding eigenvector $V$, so that $AV=\\lambda V$.  Then $(A-\\mu I)V = AV - \\mu V = \\lambda V - \\mu V = (\\lambda-\\mu)V$, which means that $V$ is also an eigenvector of the matrix $(A-\\mu I)$ corresponding to the eigenvalue $\\lambda -\\mu$.  \n",
    "\n",
    "$$\n",
    "\\begin{equation}\n",
    "\\frac{1}{\\lambda_1-\\mu}, \\frac{1}{\\lambda_2-\\mu}, \\frac{1}{\\lambda_3-\\mu}, ....,\\frac{1}{\\lambda_n-\\mu} \n",
    "\\end{equation}\n",
    "$$\n",
    "\n",
    "This is useful because it allows us to now use the Inverse Power Method to approximate the eigenvalue of $A$ that lies closest to $\\mu$.  For example, if $\\mu$ is closest to $\\lambda_2$, then $|\\lambda_2-\\mu| < |\\lambda_i -\\mu|$ for all other $i\\neq 2$, which means that $(\\lambda_2-\\mu)$ can be approximated by applying the Inverse Power Method to $(A-\\mu I)$."
   ]
  },
  {
   "cell_type": "markdown",
   "metadata": {},
   "source": [
    "We demonstrate the computation of the middle eigenvalue of the matrix from the previous example.\n",
    "\n",
    "$$\n",
    "\\begin{equation}\n",
    "A = \\left[ \\begin{array}{rrrr} 9 & -1 & -3 \\\\ 0 & 6 & 0 \\\\ -6 & 3 & 6 \\end{array}\\right]\n",
    "\\end{equation}\n",
    "$$\n",
    "\n",
    "By using the Inverse Power Method we determined that the smallest eigenvalue of $A$ is 3.  Applying the Power Method directly will show that the largest eigenvalue of $A$ is 12.  Since the third eigenvalue must lie somewhere in between these extremes, we choose $\\mu$ to be exactly in the middle at $7.5$.  Note that once we have a good approximation to the eigenvector with $X^{(m)}$, we can approximate the eigenvalue of $A$ with $||AX^{(m)}||$."
   ]
  },
  {
   "cell_type": "code",
   "execution_count": 9,
   "metadata": {},
   "outputs": [
    {
     "name": "stdout",
     "output_type": "stream",
     "text": [
      "Eigenvector is approximately:\n",
      "[[0.44232587]\n",
      " [0.88465174]\n",
      " [0.14744196]] \n",
      "\n",
      "Eigenvalue of A is approximately:\n",
      "6.0\n"
     ]
    }
   ],
   "source": [
    "X = np.array([[0],[1],[0]])\n",
    "\n",
    "m = 0\n",
    "tolerance = 0.0001\n",
    "MAX_ITERATIONS = 100\n",
    "difference = X\n",
    "\n",
    "A = np.array([[9,-1,-3],[0,6,0],[-6,3,6]])\n",
    "I = np.eye(3)\n",
    "mu = 7.5\n",
    "Shifted_A = A-mu*I\n",
    "LU_factorization = sla.lu_factor(Shifted_A)\n",
    "\n",
    "while (m < MAX_ITERATIONS and lag.Magnitude(difference) > tolerance):\n",
    "    X_previous = X\n",
    "    X = sla.lu_solve(LU_factorization,X)\n",
    "    X = X/lag.Magnitude(X)\n",
    "\n",
    "    ## Compute difference in stopping condition\n",
    "    difference = X - X_previous\n",
    "    \n",
    "    m = m + 1\n",
    "\n",
    "print(\"Eigenvector is approximately:\")\n",
    "print(X,'\\n')\n",
    "print(\"Eigenvalue of A is approximately:\")\n",
    "print(lag.Magnitude(A@X))"
   ]
  },
  {
   "cell_type": "markdown",
   "metadata": {},
   "source": [
    "### Exercises\n",
    "\n",
    "**Exercise 1:** Let $A$ be the matrix from the Inverse Power Method example.\n",
    "\n",
    "$$\n",
    "\\begin{equation}\n",
    "A = \\left[ \\begin{array}{rrr} 9 & -1 & -3 \\\\ 0 & 6 & 0 \\\\ -6 & 3 & 6 \\end{array}\\right]\n",
    "\\end{equation}\n",
    "$$\n",
    "\n",
    "($a$) Use the Power Method to approximate the largest eigenvalue $\\lambda_1$.  Verify that the exact value of $\\lambda_1$ is 12."
   ]
  },
  {
   "cell_type": "code",
   "execution_count": 10,
   "metadata": {},
   "outputs": [
    {
     "name": "stdout",
     "output_type": "stream",
     "text": [
      "Eigenvector is approximately: \n",
      " [[ 0.70710678]\n",
      " [ 0.        ]\n",
      " [-0.70710678]]\n",
      "Magnitude of the eigenvalue is approximately: \n",
      " 12.000000000002048\n"
     ]
    }
   ],
   "source": [
    "## Code solution here.\n",
    "A = np.array([[9,-1,-3],[0,6,0],[-6,3,6]])\n",
    "X = np.array([[1],[0],[0]])\n",
    "\n",
    "m = 0\n",
    "while (m < 20):\n",
    "    X = A@X\n",
    "    X = X/lag.Magnitude(X)\n",
    "    m = m + 1\n",
    "    \n",
    "print('Eigenvector is approximately: \\n', X)\n",
    "print('Magnitude of the eigenvalue is approximately: \\n', lag.Magnitude(A@X))"
   ]
  },
  {
   "cell_type": "code",
   "execution_count": 11,
   "metadata": {},
   "outputs": [
    {
     "name": "stdout",
     "output_type": "stream",
     "text": [
      "[[-2.89368529e-12]\n",
      " [ 0.00000000e+00]\n",
      " [-5.78914694e-12]]\n"
     ]
    }
   ],
   "source": [
    "# Check if Eigen is correct:\n",
    "print(A@X - 12*X)"
   ]
  },
  {
   "cell_type": "markdown",
   "metadata": {},
   "source": [
    "We see that the first entry of X is equal to the third multiplied by -1. If we calculate this by setting the first entry to be mulitplied by 1 instead of -1, we see that $\\lambda_1 = 12$\n",
    "$AX = \\begin{bmatrix}\n",
    "    9&-1&-3\\\\\n",
    "    0&6&0\\\\\n",
    "    -6&3&6\\\\\n",
    "\\end{bmatrix}\\begin{bmatrix}\n",
    "    1\\\\0\\\\1\\\\\n",
    "\\end{bmatrix}=\\begin{bmatrix}\n",
    "    12\\\\0\\\\12\\\\\n",
    "\\end{bmatrix} = 12X$\n",
    "\n",
    "Furthermore, we can see that on the above, that when we subtract 12X, it is very close to 0.\n"
   ]
  },
  {
   "cell_type": "markdown",
   "metadata": {},
   "source": [
    "($b$) Construct the line through $0$ and $Ax_k,$ that is, graph the iterations of the eigenvectors. What happens as $k$ increases? (hint: see Figure 1 of Lay page 322)"
   ]
  },
  {
   "cell_type": "code",
   "execution_count": 12,
   "metadata": {},
   "outputs": [
    {
     "data": {
      "image/png": "[encoded data removed]",
      "text/plain": [
       "<Figure size 640x480 with 1 Axes>"
      ]
     },
     "metadata": {},
     "output_type": "display_data"
    }
   ],
   "source": [
    "## Code solution here.\n",
    "import matplotlib.pyplot as plt\n",
    "import numpy as np\n",
    "fig = plt.figure()\n",
    "ax = fig.add_subplot(111, projection = \"3d\")\n",
    "\n",
    "A = np.array([[9, -1, -3],[0, 6, 0],[-6, 3, 6]])\n",
    "X = np.array([[1],[0],[0]])\n",
    "\n",
    "m = 0\n",
    "ax.quiver (0, 0, 0, X[0], X[1], X[2], color=\"r\", arrow_length_ratio=0.1) \n",
    "while (m < 20):\n",
    "    X = A@X\n",
    "    X = X/lag.Magnitude(X)\n",
    "    ax.quiver (0, 0, 0, X[0], X[1], X[2], color=\"r\", arrow_length_ratio=0.1) \n",
    "\n",
    "    m = m + 1\n",
    "\n",
    "ax.set_xlim([0, 2])\n",
    "ax.set_ylim([-1, 1])\n",
    "ax.set_zlim([-1, 1])\n",
    "ax.set_xlabel (\"X\")\n",
    "ax.set_ylabel (\"y\")\n",
    "ax.set_zlabel (\"Z\")\n",
    "plt.title(\"3D Vector Plot\")\n",
    "plt.show()"
   ]
  },
  {
   "cell_type": "markdown",
   "metadata": {},
   "source": [
    "We see that the vector is stops at a point. As we do the power method we see that we get a closer and more accurate representation of the eigenvector."
   ]
  },
  {
   "cell_type": "markdown",
   "metadata": {},
   "source": [
    "($c$) Apply the Inverse Power Method with a shift of $\\mu = 10$.  Explain why the results differ from those in the example."
   ]
  },
  {
   "cell_type": "code",
   "execution_count": 13,
   "metadata": {},
   "outputs": [
    {
     "name": "stdout",
     "output_type": "stream",
     "text": [
      "Eigenvector is approximately:\n",
      " [[-7.07113254e-01]\n",
      " [-1.94211789e-05]\n",
      " [ 7.07100308e-01]]\n",
      "Eigenvalue of A is approximately: 11.999972530202639\n"
     ]
    }
   ],
   "source": [
    "X = np.array([[0],[1],[0]])\n",
    "\n",
    "m = 0\n",
    "tolerance = 0.0001\n",
    "MAX_ITERATIONS = 100\n",
    "difference = X\n",
    "\n",
    "A = np.array([[9,-1,-3],[0,6,0],[-6,3,6]])\n",
    "I = np.eye(3)\n",
    "mu = 10\n",
    "Shifted_A = A-mu*I\n",
    "LU_factorization = sla.lu_factor(Shifted_A)\n",
    "\n",
    "while (m < MAX_ITERATIONS and lag.Magnitude(difference) > tolerance):\n",
    "    X_previous = X\n",
    "    X = sla.lu_solve(LU_factorization,X)\n",
    "    X = X/lag.Magnitude(X)\n",
    "    difference = X - X_previous\n",
    "    m = m + 1\n",
    "\n",
    "print(\"Eigenvector is approximately:\\n\",X)\n",
    "print(\"Eigenvalue of A is approximately:\",lag.Magnitude(A@X))\n"
   ]
  },
  {
   "cell_type": "markdown",
   "metadata": {},
   "source": [
    "The inverse power method with a shift of $\\mu$ find the eigenvalue closest to $\\mu$.　In the example above, they choose $\\lambda = 7.5$ which is neither the largest or smallest eigen values. The largest = 12, and smallest = 3. Thus when $\\lambda = 10$ we get eigen value of 12, since the closest eigenvalue to $\\lambda = $10 is 12.."
   ]
  },
  {
   "cell_type": "markdown",
   "metadata": {},
   "source": [
    "($d$) Apply the Inverse Power Method with a shift of $\\mu = 7.5$ and the initial vector given below.  Explain why the sequence of vectors approach the eigenvector corresponding to $\\lambda_1$\n",
    "\n",
    "$$\n",
    "\\begin{equation}\n",
    "X^{(0)} = \\left[ \\begin{array}{r} 1 \\\\ 0  \\\\ 0 \\end{array}\\right]\n",
    "\\end{equation}\n",
    "$$"
   ]
  },
  {
   "cell_type": "markdown",
   "metadata": {},
   "source": [
    "## Code solution here.\n",
    "The TA said this question is questionable?/messed up."
   ]
  },
  {
   "cell_type": "markdown",
   "metadata": {},
   "source": [
    "**Exercise 2:** Let $B$ be the following matrix.\n",
    "\n",
    "$$\n",
    "\\begin{equation}\n",
    "B = \\left[ \\begin{array}{rrrr} -2 & -18 & 6 \\\\ -11 & 3 & 11 \\\\ -27 & 15 & 31 \\end{array}\\right]\n",
    "\\end{equation}\n",
    "$$\n",
    "\n",
    "($a$) Apply the Power Method and Inverse Power Method with shifts to approximate all eigenvalues of the matrix $B$. (*Note that one of the eigenvalues of this matrix is negative.*)"
   ]
  },
  {
   "cell_type": "code",
   "execution_count": 14,
   "metadata": {},
   "outputs": [
    {
     "name": "stdout",
     "output_type": "stream",
     "text": [
      "Eigenvector:\n",
      " [[ 5.45551258e-14]\n",
      " [-3.16227766e-01]\n",
      " [-9.48683298e-01]]\n",
      "Eigenvalue 36.00000000000151\n"
     ]
    }
   ],
   "source": [
    "A = np.array([[-2, -18, 6],[-11, 3, 11],[-27, 15, 31]])\n",
    "X = np.array([[1],[0],[0]])\n",
    "\n",
    "m = 0\n",
    "while (m < 20):\n",
    "    X = A@X\n",
    "    X = X/lag.Magnitude(X)\n",
    "    m = m + 1\n",
    "    \n",
    "print('Eigenvector:\\n',X)\n",
    "print('Eigenvalue',lag.Magnitude(A@X))"
   ]
  },
  {
   "cell_type": "code",
   "execution_count": 15,
   "metadata": {},
   "outputs": [
    {
     "name": "stdout",
     "output_type": "stream",
     "text": [
      "[[-2.40030218e-12]\n",
      " [-1.19904087e-12]\n",
      " [-1.20081722e-12]]\n"
     ]
    }
   ],
   "source": [
    "# Check:\n",
    "print(A@X - 36*X)"
   ]
  },
  {
   "cell_type": "markdown",
   "metadata": {},
   "source": [
    "Above we used the power method. We get an eigenvalue of 36 and checked with 36*X, and shows that the difference is close to 0. Now we use the inverse power method to calculate the smallest eigenvalue."
   ]
  },
  {
   "cell_type": "code",
   "execution_count": 16,
   "metadata": {},
   "outputs": [
    {
     "name": "stdout",
     "output_type": "stream",
     "text": [
      "Eigenvector is approximately:\n",
      " [[-7.07095991e-01]\n",
      " [ 2.15801743e-05]\n",
      " [-7.07117571e-01]]\n",
      "Magnitude of the eigenvalue of A is approximately:\n",
      " 4.000549345743139\n"
     ]
    }
   ],
   "source": [
    "X = np.array([[0],[1],[0]])\n",
    "\n",
    "m = 0\n",
    "tolerance = 0.0001\n",
    "MAX_ITERATIONS = 100\n",
    "\n",
    "difference = X\n",
    "A = np.array([[-2, -18, 6],[-11, 3, 11],[-27, 15, 31]])\n",
    "LU_factorization = sla.lu_factor(A)\n",
    "\n",
    "while (m < MAX_ITERATIONS and lag.Magnitude(difference) > tolerance):\n",
    "    X_previous = X\n",
    "    X = sla.lu_solve(LU_factorization,X)\n",
    "    X = X/lag.Magnitude(X)\n",
    "    difference = X - X_previous\n",
    "    m = m + 1\n",
    "  \n",
    "print(\"Eigenvector is approximately:\\n\",X)\n",
    "print(\"Magnitude of the eigenvalue of A is approximately:\\n\",lag.Magnitude(A@X))\n"
   ]
  },
  {
   "cell_type": "code",
   "execution_count": 17,
   "metadata": {},
   "outputs": [
    {
     "name": "stdout",
     "output_type": "stream",
     "text": [
      "[[-0.00051792]\n",
      " [-0.00025896]\n",
      " [-0.00025896]]\n"
     ]
    }
   ],
   "source": [
    "print(A@X - 4*X)"
   ]
  },
  {
   "cell_type": "markdown",
   "metadata": {},
   "source": [
    "Thus the smallest eigenvalue is 4, and now we will find the middle valued eigenvalue using the shifted inverse power method with $\\mu = 20$. But we will see that it will fail."
   ]
  },
  {
   "cell_type": "code",
   "execution_count": 18,
   "metadata": {},
   "outputs": [
    {
     "name": "stdout",
     "output_type": "stream",
     "text": [
      "Eigenvector is approximately:\n",
      " [[-0.88465174]\n",
      " [ 0.14744196]\n",
      " [-0.44232587]]\n",
      "Eigenvalue of A is approximately:\n",
      " 13.931509484680339\n"
     ]
    }
   ],
   "source": [
    "X = np.array([[0],[1],[0]])\n",
    "\n",
    "m = 0\n",
    "tolerance = 0.0001\n",
    "MAX_ITERATIONS = 1000\n",
    "difference = X\n",
    "\n",
    "A = np.array([[-2, -18, 6],[-11, 3, 11],[-27, 15, 31]])\n",
    "I = np.eye(3)\n",
    "mu = 20\n",
    "Shifted_A = A-mu*I\n",
    "LU_factorization = sla.lu_factor(Shifted_A)\n",
    "\n",
    "while (m < MAX_ITERATIONS and lag.Magnitude(difference) > tolerance):\n",
    "    X_previous = X\n",
    "    X = sla.lu_solve(LU_factorization,X)\n",
    "    X = X/lag.Magnitude(X)\n",
    "\n",
    "    ## Compute difference in stopping condition\n",
    "    difference = X - X_previous\n",
    "    \n",
    "    m = m + 1\n",
    "\n",
    "print(\"Eigenvector is approximately:\\n\",X)\n",
    "print(\"Eigenvalue of A is approximately:\\n\",lag.Magnitude(A@X))\n"
   ]
  },
  {
   "cell_type": "code",
   "execution_count": 19,
   "metadata": {},
   "outputs": [
    {
     "name": "stdout",
     "output_type": "stream",
     "text": [
      "[[ 8.84651737]\n",
      " [ 3.24372304]\n",
      " [18.57768648]]\n"
     ]
    }
   ],
   "source": [
    "# Check\n",
    "print(A@X - 14*X)"
   ]
  },
  {
   "cell_type": "markdown",
   "metadata": {},
   "source": [
    "We see that the difference is nowhere near 0. Thus the third eigenvalue verification fails. \n",
    "\n",
    "Thus we will use a negative eigenvalue, which we will use a value $\\mu = -5$"
   ]
  },
  {
   "cell_type": "code",
   "execution_count": 20,
   "metadata": {},
   "outputs": [
    {
     "name": "stdout",
     "output_type": "stream",
     "text": [
      "Eigenvector is approximately:\\m [[0.81649658]\n",
      " [0.40824829]\n",
      " [0.40824829]]\n",
      "Eigenvalue of A is approximately:\n",
      " 8.000000000000002\n"
     ]
    }
   ],
   "source": [
    "X = np.array([[0],[1],[0]])\n",
    "\n",
    "m = 0\n",
    "tolerance = 0.0001\n",
    "MAX_ITERATIONS = 1000\n",
    "difference = X\n",
    "\n",
    "A = np.array([[-2, -18, 6],[-11, 3, 11],[-27, 15, 31]])\n",
    "I = np.eye(3)\n",
    "mu = -5\n",
    "Shifted_A = A-mu*I\n",
    "LU_factorization = sla.lu_factor(Shifted_A)\n",
    "\n",
    "while (m < MAX_ITERATIONS and lag.Magnitude(difference) > tolerance):\n",
    "    X_previous = X\n",
    "    X = sla.lu_solve(LU_factorization,X)\n",
    "    X = X/lag.Magnitude(X)\n",
    "\n",
    "    ## Compute difference in stopping condition\n",
    "    difference = X - X_previous\n",
    "    \n",
    "    m = m + 1\n",
    "\n",
    "print(\"Eigenvector is approximately:\\m\",X)\n",
    "print(\"Eigenvalue of A is approximately:\\n\",lag.Magnitude(A@X))"
   ]
  },
  {
   "cell_type": "code",
   "execution_count": 21,
   "metadata": {},
   "outputs": [
    {
     "name": "stdout",
     "output_type": "stream",
     "text": [
      "[[-8.8817842e-16]\n",
      " [-4.4408921e-16]\n",
      " [-8.8817842e-16]]\n"
     ]
    }
   ],
   "source": [
    "# Check\n",
    "print(A@X + 8*X)"
   ]
  },
  {
   "cell_type": "markdown",
   "metadata": {},
   "source": [
    "Thus we see that the difference is close to 0, and thus our third eigenvalue is -8. \n",
    "Thus we see the three eigenvalues are: 36,4,and -8."
   ]
  },
  {
   "cell_type": "markdown",
   "metadata": {},
   "source": [
    "($b$) Check your results using the $\\texttt{eig}$ function in SciPy."
   ]
  },
  {
   "cell_type": "code",
   "execution_count": 22,
   "metadata": {},
   "outputs": [
    {
     "name": "stdout",
     "output_type": "stream",
     "text": [
      "[36. -8.  4.]\n"
     ]
    }
   ],
   "source": [
    "from numpy import linalg as sss\n",
    "eigenvalues, eigenvectors = sss.eig(A)\n",
    "print(eigenvalues)\n",
    "# We see that they are the correct eigenvalues"
   ]
  },
  {
   "cell_type": "markdown",
   "metadata": {},
   "source": [
    "## Applications: Discrete Dynamical Systems\n",
    "\n",
    "In this second section, we recall that eigenvalues and eigenvectors provide the key to understanding the long-term behavior, or evolution, of a dynamical system described by a difference equation $x_{k+1} = Ax_k.$ Read Lay, section 5.6 for more details."
   ]
  },
  {
   "cell_type": "markdown",
   "metadata": {},
   "source": [
    "**Exercise 3:** Produce the general solution of the dynamical system $x_{k+1}=Ax_k$ when $A$ is the stochastic matrix for the Hertz Rent-A-Car model in Denver. Assume that the company has a fleet of about 2000 cars. The pattern of rental and return locations is given by the factions in the table below. On a typical day, about how many cars will be rented or ready to rent from the downtown location where\n",
    "\n",
    "$$\n",
    "\\begin{equation}\n",
    "A = \\left[ \\begin{array}{rrrr} .90 & .01 & .09 \\\\ .01 & .90 & .01 \\\\ .09 & .09 & .90 \\end{array}\\right]\n",
    "\\end{equation}\n",
    "$$\n",
    "\n",
    "where columns represent cars rented from DIA, downtown, local airport, respectively, and the rows represent cars returned to DIA, downtown, local airport, respectively.\n"
   ]
  },
  {
   "cell_type": "code",
   "execution_count": 23,
   "metadata": {},
   "outputs": [
    {
     "name": "stdout",
     "output_type": "stream",
     "text": [
      "[1.  +0.j 0.81+0.j 0.89+0.j]\n",
      "[[-6.70078385e-01 -7.07106781e-01  7.07106781e-01]\n",
      " [-1.39906476e-01 -3.05046348e-16 -7.07106781e-01]\n",
      " [-7.28986375e-01  7.07106781e-01  2.21242313e-15]]\n",
      "first eigenvector:\n",
      " [[0.91919191]\n",
      " [0.19191919]\n",
      " [0.99999999]]\n",
      "second eigenvector:\n",
      " [[-1.00000000e+00]\n",
      " [-4.31400682e-16]\n",
      " [ 1.00000000e+00]]\n",
      "third eigenvector:\n",
      " [[ 1.00000000e+00]\n",
      " [-1.00000000e+00]\n",
      " [ 3.12883879e-15]]\n",
      "These vectors are roughly equal to:\n",
      "\n",
      "\n",
      "First eigenvector:\n",
      " [[0.91919192]\n",
      " [0.19191919]\n",
      " [1.        ]]\n",
      "Second eigenvector:\n",
      " [[-1]\n",
      " [ 0]\n",
      " [ 1]]\n",
      "Third eigenvector:\n",
      " [[ 1]\n",
      " [-1]\n",
      " [ 0]]\n"
     ]
    }
   ],
   "source": [
    "A = np.array([[0.9, 0.01, 0.09],[0.01, 0.9, 0.01],[0.09, 0.09, 0.9]])\n",
    "\n",
    "eigenvalues, eigenvectors = sla.eig(A)\n",
    "\n",
    "print(eigenvalues)\n",
    "print(eigenvectors)\n",
    "\n",
    "v1 = np.array([[eigenvectors[0][0]],[eigenvectors[1][0]], [eigenvectors[2][0]]])\n",
    "v1 = v1/(-0.72898638)\n",
    "print('first eigenvector:\\n',v1)\n",
    "v2 = np.array([[eigenvectors[0][1]],[eigenvectors[1][1]], [eigenvectors[2][1]]])\n",
    "v2 = v2/0.707106781\n",
    "print('second eigenvector:\\n',v2)\n",
    "v3 = np.array([[eigenvectors[0][2]],[eigenvectors[1][2]], [eigenvectors[2][2]]])\n",
    "v3 = v3/0.707106781\n",
    "print('third eigenvector:\\n',v3)\n",
    "\n",
    "\n",
    "\n",
    "\n",
    "print('These vectors are roughly equal to:')\n",
    "v1_check = np.array([[91/99],[19/99],[1]])\n",
    "v2_check = np.array([[-1],[0],[1]])\n",
    "v3_check = np.array([[1],[-1],[0]])\n",
    "print('\\n\\nFirst eigenvector:\\n',v1_check)\n",
    "print('Second eigenvector:\\n',v2_check)\n",
    "print('Third eigenvector:\\n',v3_check)\n"
   ]
  },
  {
   "cell_type": "markdown",
   "metadata": {},
   "source": [
    "Above, we found the eigenvalues and vectors of A.\n",
    "Now we create the dynamical system:\n",
    "\n",
    "\n",
    "$x_{k+1}=c_1(1)^k \\left[\\begin{array}{r} \\frac{91}{99}\\\\ \\frac{19}{99}\\\\ 1 \\end{array}\\right] + c_2(0.89)^k \\left[\\begin{array}{r} -1 \\\\ 0\\\\ 1 \\end{array}\\right] + c_3(0.81)^k \\left[\\begin{array}{r} 1 \\\\ -1\\\\ 0 \\end{array}\\right]$\n",
    "\n",
    "We set k $\\to$ $\\infty$, and we see 0.89 and 0.81 will decrease to 0. \n",
    "\n",
    "Thus the equation left is:\n",
    "\n",
    "$x_{\\infty}=c_1\\left[\\begin{array}{r}\\frac{91}{99}\\\\ \\frac{19}{99}\\\\ 1  \\end{array}\\right]$\n",
    "\n",
    "If the company has a fleet of 2000 cars we will know that when we start with 2000 cars then we end with 20000 cars. Thus we just want to scale our vector by $\\left[\\begin{array}{r}\\frac{91}{99}\\\\ \\frac{19}{99}\\\\ 1  \\end{array}\\right]$ and have the entries which sum up to 2000. We will see that the middle row will give us the number of cars rented from downtown. \n",
    "\n",
    "\n",
    "We solve for the scalar which is:\n",
    "\n",
    "$2000 = c_1(\\frac{91}{99}) + c_1(\\frac{19}{99}) + c_1(1)$\n",
    "$c_1 = \\frac{18000}{19} =  947.36842$\n",
    "\n",
    "\n",
    "Using this $c_1$ we can solve the equation now:\n",
    "\n",
    "\\begin{align*}\n",
    "x_{\\infty}&=(947.36842)\\begin{bmatrix}\\frac{91}{99}\\\\ \\frac{19}{99}\\\\ 1\\end{bmatrix}\\\\\n",
    "x_{\\infty}&=\\begin{bmatrix}870.813396927 \\\\ 181.818179798\\\\ 947.36842 \\end{bmatrix}\n",
    "\\end{align*}\n",
    "We look at the second row for the middle:\n",
    "\n",
    "Thus we can say there are approximately 182 cars rented in downtown."
   ]
  },
  {
   "cell_type": "markdown",
   "metadata": {},
   "source": [
    "**Exercise 4:** Construct a stage-matrix model for an animal species that has two life stages: juvenile (up to 1 year old) and adult. Suppose the female adults give birth each year to an average of 1.6 female juveniles. Each year, 30% of the juveniles survive to become adults and 80% of the adults survive. For $k\\geq 0,$ let $x_k=(j_k, a_k),$ where the entries in $x_k$ are the numbersof female juveniles and female adults in year $k.$\n",
    "\n",
    "($a$) Construct the stage-matrix $A$ such that $x_{k+1} = Ax_k$ for $k \\geq 0.$"
   ]
  },
  {
   "cell_type": "markdown",
   "metadata": {},
   "source": [
    "From the information above, we get:\n",
    "\n",
    "\\begin{align*}\n",
    "    j_{k+1} &= 1.6a_k\\\\\n",
    "    a_{k+1} &= 0.3j_k + 0.8a_k\\\\\n",
    "\\end{align*}\n",
    "\n",
    "Thus we can find that:\n",
    "\\begin{align*}\n",
    "x_k+1 &= \\begin{bmatrix}j_{k+1}\\\\ a_{k+1}\\\\ \\end{bmatrix}=\\begin{bmatrix} 1.6a_k\\\\ 0.3j_k + 0.8_k\\end{bmatrix}\\\\\n",
    "&=j_k \\cdot \\begin{bmatrix} 0\\\\ 0.3\\end{bmatrix} + a_k \\cdot \\begin{bmatrix}1.6\\\\ 0.8\\\\ \\end{bmatrix}\\\\\n",
    "&=\\begin{bmatrix} 0&1.6\\\\ 0.3&0.8 \\end{bmatrix}\\begin{bmatrix} j_k \\\\ a_k\\end{bmatrix} = Ax_k\n",
    "\\end{align*}\n",
    "\n",
    "\n",
    "Thus our stage matrix will be:\n",
    "\\begin{align*}\n",
    "Ax_{k}= \\begin{bmatrix} 0&1.6\\\\0.3&0.8\\end{bmatrix}\n",
    "\\end{align*}\n"
   ]
  },
  {
   "cell_type": "markdown",
   "metadata": {},
   "source": [
    "($b$)  Show that the population is growing, compute the even- tual growth rate of the population, and give the eventual ratio of juveniles to adults."
   ]
  },
  {
   "cell_type": "code",
   "execution_count": 24,
   "metadata": {},
   "outputs": [
    {
     "name": "stdout",
     "output_type": "stream",
     "text": [
      "Eigenvalues:\n",
      "[-0.4  1.2]\n",
      "\n",
      "first eigenvector:\n",
      " [[-3.99999992]\n",
      " [ 0.99999998]]\n",
      "second eigenvector:\n",
      " [[1.  ]\n",
      " [0.75]]\n",
      "These vectors are roughly equal to:\n",
      "\n",
      "\n",
      "First eigenvector:\n",
      " [[-4]\n",
      " [ 1]]\n",
      "Second eigenvector:\n",
      " [[4]\n",
      " [3]]\n"
     ]
    }
   ],
   "source": [
    "A = np.array([[0, 1.6],[0.3, 0.8]])\n",
    "\n",
    "eigenvalues, eigenvectors = sss.eig(A)\n",
    "print('Eigenvalues:')\n",
    "print(eigenvalues)\n",
    "\n",
    "v1 = np.array([[eigenvectors[0][0]],[eigenvectors[1][0]]])\n",
    "v1 = v1/(0.24253563)\n",
    "print('\\nfirst eigenvector:\\n',v1)\n",
    "v2 = np.array([[eigenvectors[0][1]],[eigenvectors[1][1]]])\n",
    "v2 = v2/-0.8\n",
    "print('second eigenvector:\\n',v2)\n",
    "\n",
    "print('These vectors are roughly equal to:')\n",
    "v1 = np.array([[-4],[1]])\n",
    "v2 = np.array([[4],[3]])\n",
    "print('\\n\\nFirst eigenvector:\\n',v1)\n",
    "print('Second eigenvector:\\n',v2)"
   ]
  },
  {
   "cell_type": "markdown",
   "metadata": {},
   "source": [
    "AFter finding the eigenvectors, we need to show that the population is growing. We can use the numbers from (c) to show that there are 15 juveniles and 10 adults in the population and show that the population is growing. We can show this by calculating $c_1,c_2$ first."
   ]
  },
  {
   "cell_type": "code",
   "execution_count": 25,
   "metadata": {},
   "outputs": [
    {
     "name": "stdout",
     "output_type": "stream",
     "text": [
      "[[ 3.4375]\n",
      " [-0.3125]]\n"
     ]
    }
   ],
   "source": [
    "C1 = np.array([[4, -4],[3, 1]])\n",
    "E = np.array([[15],[10]])\n",
    "\n",
    "print(lag.SolveSystem(C1, E))"
   ]
  },
  {
   "cell_type": "markdown",
   "metadata": {},
   "source": [
    "We show the equation as:\n",
    "    \n",
    "    \n",
    "\\begin{align*}\n",
    "    x_{k+1} &= (3.4275)(1.2)^k\\begin{bmatrix}\n",
    "        4\\\\3\\\\\n",
    "    \\end{bmatrix} + (-0.3125)(-0.4)^k\\begin{bmatrix}\n",
    "        -4\\\\1\\\\\n",
    "    \\end{bmatrix}\\\\\n",
    "    &\\text{To find the rate, we have 2 equations:}\\\\\n",
    "    j_{k+1}&=(3.4375)(1.2)^k (4) + (-0.3125)(-0.4)^k (-4)\\\\\n",
    "j_{k+1}&=(13.75)(1.2)^k + (1.25)(-0.4)^k\\\\\n",
    "\\text{and}\\\\\n",
    "a_{k+1}&=(3.4375)(1.2)^k (3) + (-0.3125)(-0.4)^k (1)\\\\\n",
    "a_{k+1}&=(10.3125)(1.2)^k + (-0.3125)(-0.4)^k\\\\\n",
    "\\end{align*}\n",
    "\n",
    "Thus we see our ratio is $\\frac{j_k}{a_k}$, or $\\frac{(13.75)(1.2)^k + (1.25)(-0.4)^k}{(10.3125)(1.2)^k + (-0.3125)(-0.4)^k}$\n",
    "\n",
    "From looking at our equations, we see that as $k\\to \\infty$ our equation will go towards infinity as well. This shows that the population is indeed growing."
   ]
  },
  {
   "cell_type": "markdown",
   "metadata": {},
   "source": [
    "($c$)  Suppose that initially there are 15 juveniles and 10 adults in the population. Produce four graphs that show how the population changes over eight years: (1) the number of juveniles, (2) the number of adults, (3) the total population, and (4) the ratio of juveniles to adults (each year). Further, when does the ratio in (4) seem to stabilize? "
   ]
  },
  {
   "cell_type": "code",
   "execution_count": 26,
   "metadata": {},
   "outputs": [
    {
     "data": {
      "image/png": "[encoded data removed]",
      "text/plain": [
       "<Figure size 640x480 with 1 Axes>"
      ]
     },
     "metadata": {},
     "output_type": "display_data"
    }
   ],
   "source": [
    "## Code solution here.\n",
    "from matplotlib import pyplot as plt \n",
    "\n",
    "plt.title(\"Graph 1\") \n",
    "plt.xlabel(\"Year\") \n",
    "plt.ylabel(\"Juvenile Population\") \n",
    "# How population changes over 8 years\n",
    "for i in range(9):\n",
    "    num = (13.75)*(1.2**(i)) + (1.25)*((-0.4)**(i))\n",
    "    plt.plot(i,num,\"ob\") \n",
    "plt.show()"
   ]
  },
  {
   "cell_type": "code",
   "execution_count": 27,
   "metadata": {},
   "outputs": [
    {
     "data": {
      "image/png": "[encoded data removed]",
      "text/plain": [
       "<Figure size 640x480 with 1 Axes>"
      ]
     },
     "metadata": {},
     "output_type": "display_data"
    }
   ],
   "source": [
    "plt.title(\"Graph 2\") \n",
    "plt.xlabel(\"Year\") \n",
    "plt.ylabel(\"Adult Population\") \n",
    "# How population changes over 8 years\n",
    "for i in range(9):\n",
    "    num = (10.3125)*(1.2**(i)) + (-0.3125)*((-0.4)**(i))\n",
    "    plt.plot(i,num,\"ob\") \n",
    "plt.show()"
   ]
  },
  {
   "cell_type": "code",
   "execution_count": 28,
   "metadata": {},
   "outputs": [
    {
     "data": {
      "image/png": "[encoded data removed]",
      "text/plain": [
       "<Figure size 640x480 with 1 Axes>"
      ]
     },
     "metadata": {},
     "output_type": "display_data"
    }
   ],
   "source": [
    "plt.title(\"Graph 3\") \n",
    "plt.xlabel(\"Year\") \n",
    "plt.ylabel(\"Total Population\") \n",
    "# How population changes over 8 years\n",
    "for i in range(9):\n",
    "    num = ((10.3125)*(1.2**(i)) + (-0.3125)*((-0.4)**(i))) + ((13.75)*(1.2**(i)) + (1.25)*((-0.4)**(i)))\n",
    "    plt.plot(i,num,\"ob\") \n",
    "plt.show()"
   ]
  },
  {
   "cell_type": "code",
   "execution_count": 29,
   "metadata": {},
   "outputs": [
    {
     "data": {
      "image/png": "[encoded data removed]",
      "text/plain": [
       "<Figure size 640x480 with 1 Axes>"
      ]
     },
     "metadata": {},
     "output_type": "display_data"
    }
   ],
   "source": [
    "plt.title(\"Graph 4\") \n",
    "plt.xlabel(\"Year\") \n",
    "plt.ylabel(\"Ratio\") \n",
    "# How population changes over 8 years\n",
    "for i in range(9):\n",
    "    num = ((13.75)*(1.2**(i)) + (1.25)*((-0.4)**(i))) / ((10.3125)*(1.2**(i)) + (-0.3125)*((-0.4)**(i)))\n",
    "    plt.plot(i,num,\"ob\") \n",
    "plt.show()"
   ]
  },
  {
   "cell_type": "markdown",
   "metadata": {},
   "source": [
    "We see that the ratio stabilizes around year 3 and forward. They begin to equal the same value of approx 1.34"
   ]
  },
  {
   "cell_type": "markdown",
   "metadata": {},
   "source": [
    "**Exercise 5:** A herd of American buffalo (bison) can be modeled by a stage matrix similar to that for the spotted owls. The females can be divided into calves (up to 1 year old), yearlings (1 to 2 years), and adults. Suppose an average of 42 female calves are born each year per 100 adult females. (Only adults produce offspring.) Each year, about 60% of the calves survive, 75% of the yearlings survive, and 95% of the adults survive. For $k\\geq 0,$ let $x_k=(c_k, y_k, a_k)$, where the entries in $x_k$ are the numbers of females in each life stage at year $k.$\n",
    "\n",
    "\n",
    "($a$)  Construct the stage-matrix $A$ for the buffalo herd, such that $x_{k+1}=Ax_k$ for $k\\geq 0.$"
   ]
  },
  {
   "cell_type": "markdown",
   "metadata": {},
   "source": [
    "$x_k = \\begin{bmatrix}\n",
    "    c_k\\\\y_k\\\\a_k\n",
    "\\end{bmatrix}$\n",
    "To find $c_{k+1}$, it depends on how many adults produces calves in the current year.\\\\\n",
    "Furthermore, we see that:\n",
    "\n",
    "For c,\n",
    "\\begin{align*}\n",
    "    c_{k+1} &= 0.42a_k\\\\\n",
    "\\end{align*}\n",
    "For y\n",
    "\\begin{align*}\n",
    "    y_{k+1} &= 0.6c_k\\\\\n",
    "\\end{align*}\n",
    "For a\n",
    "\\begin{align*}\n",
    "    a_{k+1} &= 0.42y_k\\\\\n",
    "\\end{align*}\n",
    "\n",
    "Thus we can find that:\\\\\n",
    "\\begin{align*}\n",
    "    x_{k+1} = \\begin{bmatrix}\n",
    "     c_{k+1}\\\\y_{k+1}\\\\a_{k+1}\n",
    "\\end{bmatrix} &= \n",
    "\\begin{bmatrix}\n",
    "    0.42a_k\\\\\n",
    "    0.6c_k\\\\\n",
    "    0.75y_k + 0.95a_k\n",
    "\\end{bmatrix}\\\\\n",
    "&= c_k \\cdot  \\begin{bmatrix}\n",
    "    0\\\\0.6\\\\0\n",
    "\\end{bmatrix} + y_k \\cdot \\begin{bmatrix}\n",
    "    0\\\\0\\\\0.75\\\\\n",
    "\\end{bmatrix} + \n",
    "a_k\\cdot \n",
    "\\begin{bmatrix}\n",
    "    0.42\\\\0\\\\0.95\\\\\n",
    "\\end{bmatrix}\\\\\n",
    "&=\\begin{bmatrix}\n",
    "    0&0&0.42\\\\0.6&0&0\\\\0&0.75&0.95\\\\\n",
    "\\end{bmatrix}\\begin{bmatrix}\n",
    "    c_k\\\\y_k\\\\a_k\n",
    "\\end{bmatrix} = Ax_k\n",
    "\\end{align*}\n",
    "\n",
    "\n",
    "Thus our stage matrix:\n",
    "\\begin{align*}\n",
    "Ax_k = \\begin{bmatrix}\n",
    "    0&0&0.42\\\\0.6&0&0\\\\0&0.75&0.95\\\\\n",
    "\\end{bmatrix}\n",
    "\\end{align*}"
   ]
  },
  {
   "cell_type": "markdown",
   "metadata": {},
   "source": [
    "($b$)  Show that the buffalo herd is growing, determine the expected growth rate after many years, and give the expected numbers of calves and yearlings present per 100 adults."
   ]
  },
  {
   "cell_type": "code",
   "execution_count": 30,
   "metadata": {},
   "outputs": [
    {
     "name": "stdout",
     "output_type": "stream",
     "text": [
      "First Eigenvalue: (-0.0774171962145614+0.406291692773601j)\n",
      "Second Eigenvalue: (-0.0774171962145614-0.406291692773601j)\n",
      "Third Eigenvalue: (1.1048343924291226+0j)\n",
      "\n",
      "first eigenvector:\n",
      " [[-0.09273281+0.48666925j]\n",
      " [ 0.71869929+0.j        ]\n",
      " [-0.45369181-0.17941223j]]\n",
      "second eigenvector:\n",
      " [[-0.09273281-0.48666925j]\n",
      " [ 0.71869929-0.j        ]\n",
      " [-0.45369181+0.17941223j]]\n",
      "third eigenvector:\n",
      " [[0.34890131+0.j]\n",
      " [0.18947707+0.j]\n",
      " [0.91780516+0.j]]\n"
     ]
    }
   ],
   "source": [
    "import numpy as np\n",
    "A = np.array([\n",
    "    [0, 0, 0.42],\n",
    "    [0.6, 0, 0],\n",
    "    [0, 0.75, 0.95]\n",
    "])\n",
    "\n",
    "eigenvalues, eigenvectors = sla.eig(A)\n",
    "print('First Eigenvalue:',eigenvalues[0])\n",
    "print('Second Eigenvalue:',eigenvalues[1])\n",
    "print('Third Eigenvalue:',eigenvalues[2])\n",
    "\n",
    "\n",
    "v1 = np.array([[eigenvectors[0][0]],[eigenvectors[1][0]], [eigenvectors[2][0]]])\n",
    "v2 = np.array([[eigenvectors[0][1]],[eigenvectors[1][1]], [eigenvectors[2][1]]])\n",
    "v3 = np.array([[eigenvectors[0][2]],[eigenvectors[1][2]], [eigenvectors[2][2]]])\n",
    "print('\\nfirst eigenvector:\\n',v1)\n",
    "print('second eigenvector:\\n',v2)\n",
    "print('third eigenvector:\\n',v3)\n"
   ]
  },
  {
   "cell_type": "markdown",
   "metadata": {},
   "source": [
    "We see that the eigenvalues are very complex including imaginary numbers, so we will find the magnitude."
   ]
  },
  {
   "cell_type": "code",
   "execution_count": 31,
   "metadata": {},
   "outputs": [
    {
     "name": "stdout",
     "output_type": "stream",
     "text": [
      "First Eigenvalue:\n",
      " 0.41360169473366776\n",
      "Second Eigenvalue:\n",
      " 0.41360169473366776\n",
      "Third Eigenvalue:\n",
      " 1.1048343924291226\n"
     ]
    }
   ],
   "source": [
    "print('First Eigenvalue:\\n',np.linalg.norm(eigenvalues[0]))\n",
    "print('Second Eigenvalue:\\n',np.linalg.norm(eigenvalues[1]))\n",
    "print('Third Eigenvalue:\\n',np.linalg.norm(eigenvalues[2]))"
   ]
  },
  {
   "cell_type": "markdown",
   "metadata": {},
   "source": [
    "From this we see that $\\lambda_1, \\lambda_2$ has equal magnitude and $\\lambda_3$ is the larger even when combined. \n",
    "\n",
    "We can show that $\\lambda_3 > \\lambda_1 = \\lambda_2$\n",
    "\n",
    "Thus the dynamical equation will be:\n",
    "\n",
    "\n",
    "\n",
    "\\begin{align*}\n",
    "    x_{k+1} &=c_1(1.1048343924291226)^k \\begin{bmatrix}0.34890131 \\\\ 0.18947707 \\\\ 0.91780516\\end{bmatrix} \\\\&+c_2(-0.0774171962145614+0.406291692773601j)^k\\begin{bmatrix} -0.09273281+0.48666925j \\\\ 0.71869929 \\\\ -0.45369181-0.17941223j\\end{bmatrix} \\\\&+ c_3(-0.0774171962145614-0.406291692773601j)^k +\\begin{bmatrix} -0.09273281-0.48666925j \\\\0.71869929\\\\ -0.45369181+0.17941223j \\end{bmatrix}\\\\\n",
    "\\end{align*}\n",
    "\n",
    "Since $\\lambda_2, \\lambda_3 < 1$, when $k\\to \\infty$, then these terms go towards 0. \n",
    "\n",
    "Thus we can say:\n",
    "\\begin{align*}\n",
    "  x_{k+1} &=c_1(1.1048343924291226)^k \\begin{bmatrix}0.34890131 \\\\ 0.18947707 \\\\ 0.91780516\\end{bmatrix} \\\\\n",
    "\\end{align*}\n",
    "\n",
    "Now in order to find the expected number of calves present/100 adults:\n",
    "\\begin{align*}\n",
    "100_{adults} \\cdot \\frac{\\text{Number of calves present}}{\\text{Number of adults present}} &= 100\\cdot \\frac{c_1(1.1048343924291226)^k(0.34890131)}{c_1(1.1048343924291226)^k(0.91780516)}\\\\ &= 100\\cdot \\frac{0.34890131}{0.91780516} \\\\&= 38.01475\\end{align*}\n",
    "This number is approximately 38 calves present per 100 adults.\n",
    "\n",
    "To find the expected number of yearlings present per 100 adults we do the following operation:\n",
    "\n",
    "\\begin{align*}\n",
    "100_{adults}\\cdot \\frac{\\text{Number of calves present}}{\\text{Number of adults present}} &= 100\\cdot \\frac{c_1(1.1048343924291226)^k(0.18947707)}{c_1(1.1048343924291226)^k(0.91780516)}\\\\ &= 100\\cdot \\frac{0.18947707}{0.91780516} \\\\&= 20.647083744876745 \\end{align*}\n",
    "This number is approximately 21 yearlings present per 100 adults.\n",
    "\n",
    "\n",
    "Thus per every 100 adults, there are 38 calves, and 21 yearlings present."
   ]
  },
  {
   "cell_type": "code",
   "execution_count": 32,
   "metadata": {},
   "outputs": [
    {
     "name": "stdout",
     "output_type": "stream",
     "text": [
      "Magnitudes of eigenvalues: [0.41360169 0.41360169 1.10483439]\n",
      "Magnitudes less than 1: [ True  True False]\n",
      "Expected number of calves per 100 adults: 38.01474705154197\n",
      "Expected number of yearlings per 100 adults: 20.647083744876745\n"
     ]
    }
   ],
   "source": [
    "# Verify\n",
    "\n",
    "magnitudes = np.abs(eigenvalues)\n",
    "print(\"Magnitudes of eigenvalues:\", magnitudes)\n",
    "print(\"Magnitudes less than 1:\", magnitudes < 1)\n",
    "# c3_lambda3_k = eigenvectors[2, 2] * eigenvalues[2] ** 10  # Assuming k = 10 (a large number of years)\n",
    "calves_per_100_adults = 0.34890131 / 0.91780516 * 100\n",
    "yearlings_per_100_adults =  0.1895 / 0.91780516 * 100\n",
    "print(\"Expected number of calves per 100 adults:\", calves_per_100_adults)\n",
    "print(\"Expected number of yearlings per 100 adults:\", yearlings_per_100_adults)\n"
   ]
  },
  {
   "cell_type": "markdown",
   "metadata": {},
   "source": [
    "### References\n",
    "\n",
    "- Burden, Richard L. et al. *Numerical Analysis*. 10th ed., Cengage Learning, 2014.\n",
    "- Golub, Gene H. and Charles F. Van Loan. *Matrix Computations*., The Johns Hopkins University Press, 1989.\n",
    "- Lay, David C. et al. *Linear Algebra and its Applications*., 5th ed., Pearson, 2016. \n"
   ]
  }
 ],
 "metadata": {
  "kernelspec": {
   "display_name": "Python 3 (ipykernel)",
   "language": "python",
   "name": "python3"
  },
  "language_info": {
   "codemirror_mode": {
    "name": "ipython",
    "version": 3
   },
   "file_extension": ".py",
   "mimetype": "text/x-python",
   "name": "python",
   "nbconvert_exporter": "python",
   "pygments_lexer": "ipython3",
   "version": "3.10.8"
  }
 },
 "nbformat": 4,
 "nbformat_minor": 4
}
